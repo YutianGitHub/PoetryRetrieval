{
 "cells": [
  {
   "cell_type": "code",
   "execution_count": 7,
   "id": "initial_id",
   "metadata": {
    "collapsed": true,
    "ExecuteTime": {
     "end_time": "2023-12-19T16:49:41.664145800Z",
     "start_time": "2023-12-19T16:49:41.663641500Z"
    }
   },
   "outputs": [],
   "source": [
    "import importlib\n",
    "from langchain.document_loaders.csv_loader import CSVLoader\n",
    "from langchain.embeddings import HuggingFaceEmbeddings\n",
    "\n",
    "import pandas as pd\n",
    "import tqdm\n",
    "import util\n",
    "import uuid\n",
    "from langchain.vectorstores import Chroma\n",
    "from langchain.text_splitter import RecursiveCharacterTextSplitter"
   ]
  },
  {
   "cell_type": "code",
   "execution_count": 13,
   "outputs": [],
   "source": [
    "poets1 = CSVLoader(\"由大模型处理过的文档/诗人简介一列.csv\",encoding=\"utf-8\").load()"
   ],
   "metadata": {
    "collapsed": false,
    "ExecuteTime": {
     "end_time": "2023-12-19T16:56:04.772850300Z",
     "start_time": "2023-12-19T16:56:04.735321600Z"
    }
   },
   "id": "bb1d802b254928d4"
  },
  {
   "cell_type": "markdown",
   "source": [],
   "metadata": {
    "collapsed": false
   },
   "id": "5c8431cce3f5338c"
  },
  {
   "cell_type": "code",
   "execution_count": 81,
   "outputs": [],
   "source": [
    "text_splitter = RecursiveCharacterTextSplitter(\n",
    "    # Set a really small chunk size, just to show.\n",
    "    chunk_size = 512,\n",
    "    chunk_overlap  = 64,\n",
    "    length_function = len,\n",
    "    is_separator_regex = False,\n",
    ")"
   ],
   "metadata": {
    "collapsed": false,
    "ExecuteTime": {
     "end_time": "2023-12-19T07:33:02.060918700Z",
     "start_time": "2023-12-19T07:33:02.042918500Z"
    }
   },
   "id": "63c254fa36702981"
  },
  {
   "cell_type": "code",
   "execution_count": 6,
   "outputs": [
    {
     "data": {
      "text/plain": ".gitattributes:   0%|          | 0.00/1.52k [00:00<?, ?B/s]",
      "application/vnd.jupyter.widget-view+json": {
       "version_major": 2,
       "version_minor": 0,
       "model_id": "c6d8767ccec449f58685118126787425"
      }
     },
     "metadata": {},
     "output_type": "display_data"
    },
    {
     "data": {
      "text/plain": "1_Pooling/config.json:   0%|          | 0.00/191 [00:00<?, ?B/s]",
      "application/vnd.jupyter.widget-view+json": {
       "version_major": 2,
       "version_minor": 0,
       "model_id": "7290710014e04209b321a32d4fe58020"
      }
     },
     "metadata": {},
     "output_type": "display_data"
    },
    {
     "data": {
      "text/plain": "README.md:   0%|          | 0.00/32.5k [00:00<?, ?B/s]",
      "application/vnd.jupyter.widget-view+json": {
       "version_major": 2,
       "version_minor": 0,
       "model_id": "422e8aabf7744a2dbb1cfd64162fe872"
      }
     },
     "metadata": {},
     "output_type": "display_data"
    },
    {
     "data": {
      "text/plain": "config.json:   0%|          | 0.00/917 [00:00<?, ?B/s]",
      "application/vnd.jupyter.widget-view+json": {
       "version_major": 2,
       "version_minor": 0,
       "model_id": "16ab5b92dd384094bb0adf185faae7e0"
      }
     },
     "metadata": {},
     "output_type": "display_data"
    },
    {
     "data": {
      "text/plain": "pytorch_model.bin:   0%|          | 0.00/205M [00:00<?, ?B/s]",
      "application/vnd.jupyter.widget-view+json": {
       "version_major": 2,
       "version_minor": 0,
       "model_id": "d04c7fac256e4f14a382a34d8a9b0fb7"
      }
     },
     "metadata": {},
     "output_type": "display_data"
    },
    {
     "data": {
      "text/plain": "sentence_bert_config.json:   0%|          | 0.00/57.0 [00:00<?, ?B/s]",
      "application/vnd.jupyter.widget-view+json": {
       "version_major": 2,
       "version_minor": 0,
       "model_id": "0bad6c57c50b4ec099db6b09c4a7e7f9"
      }
     },
     "metadata": {},
     "output_type": "display_data"
    },
    {
     "data": {
      "text/plain": "special_tokens_map.json:   0%|          | 0.00/125 [00:00<?, ?B/s]",
      "application/vnd.jupyter.widget-view+json": {
       "version_major": 2,
       "version_minor": 0,
       "model_id": "692ca254674f4d079013ef785c477de9"
      }
     },
     "metadata": {},
     "output_type": "display_data"
    },
    {
     "data": {
      "text/plain": "tokenizer.json:   0%|          | 0.00/439k [00:00<?, ?B/s]",
      "application/vnd.jupyter.widget-view+json": {
       "version_major": 2,
       "version_minor": 0,
       "model_id": "21ed271b11c24ea38b19de98662192ef"
      }
     },
     "metadata": {},
     "output_type": "display_data"
    },
    {
     "data": {
      "text/plain": "tokenizer_config.json:   0%|          | 0.00/366 [00:00<?, ?B/s]",
      "application/vnd.jupyter.widget-view+json": {
       "version_major": 2,
       "version_minor": 0,
       "model_id": "20b2490c73cb49df8c77161e621e8f18"
      }
     },
     "metadata": {},
     "output_type": "display_data"
    },
    {
     "data": {
      "text/plain": "vocab.txt:   0%|          | 0.00/110k [00:00<?, ?B/s]",
      "application/vnd.jupyter.widget-view+json": {
       "version_major": 2,
       "version_minor": 0,
       "model_id": "2930cf523ce144fbb5c7aebaacdbd14c"
      }
     },
     "metadata": {},
     "output_type": "display_data"
    },
    {
     "data": {
      "text/plain": "modules.json:   0%|          | 0.00/386 [00:00<?, ?B/s]",
      "application/vnd.jupyter.widget-view+json": {
       "version_major": 2,
       "version_minor": 0,
       "model_id": "82e98972d9794cdc9e4d674a3cb2f7e8"
      }
     },
     "metadata": {},
     "output_type": "display_data"
    }
   ],
   "source": [
    "ef = HuggingFaceEmbeddings(\n",
    "  model_name = \"thenlper/gte-base-zh\",\n",
    "  cache_folder = \"./model\",\n",
    "  model_kwargs={\"device\":\"cuda\"}\n",
    ")"
   ],
   "metadata": {
    "collapsed": false,
    "ExecuteTime": {
     "end_time": "2023-12-19T16:47:57.459662700Z",
     "start_time": "2023-12-19T16:45:30.130048600Z"
    }
   },
   "id": "69c91b1d7a2397d7"
  },
  {
   "cell_type": "code",
   "execution_count": 14,
   "outputs": [],
   "source": [
    "vectorstore = Chroma.from_documents(documents=poets1, embedding=ef)"
   ],
   "metadata": {
    "collapsed": false,
    "ExecuteTime": {
     "end_time": "2023-12-19T16:56:59.833454400Z",
     "start_time": "2023-12-19T16:56:16.903036600Z"
    }
   },
   "id": "b809ed88739771fe"
  },
  {
   "cell_type": "code",
   "execution_count": 17,
   "outputs": [],
   "source": [
    "r = vectorstore.similarity_search(\"唐代诗人杜正伦的生平等履历简介\")"
   ],
   "metadata": {
    "collapsed": false,
    "ExecuteTime": {
     "end_time": "2023-12-19T16:58:33.408969700Z",
     "start_time": "2023-12-19T16:58:33.344710200Z"
    }
   },
   "id": "aec2ec733d7999ca"
  },
  {
   "cell_type": "code",
   "execution_count": 18,
   "outputs": [
    {
     "data": {
      "text/plain": "[Document(page_content='摘要: 【标题】：唐代诗人杜正伦的生平等履历简介\\r\\n【关键词】：杜正伦、唐代、宰相、洹水、兵部员外郎、李承乾谋反案、横州刺史\\n内容: 诗人: 段成式\\r\\n朝代: 唐代\\r\\n简介: 段成式（803-863），字柯古。晚唐邹平人，唐代著名志怪小说家，约生于唐德宗贞元十九年（公元803年），卒于懿宗咸通四年（公元863年），其父段文昌，曾任宰相，封邹平郡公，工诗，有文名。在诗坛上，他与李商隐、温庭筠齐名。段成式信佛读经，饮酒赋诗唱和，以解其忧，诗中多流露出超脱世俗的消极情绪。', metadata={'row': 813, 'source': '由大模型处理过的文档/诗人简介二列.csv'}),\n Document(page_content='文档: 【标题】：唐代诗人杜正伦的生平等履历简介\\r\\n【关键词】：杜正伦、唐代、宰相、洹水、兵部员外郎、李承乾谋反案、横州刺史\\r\\n\\r\\n诗人: 段成式\\r\\n朝代: 唐代\\r\\n简介: 段成式（803-863），字柯古。晚唐邹平人，唐代著名志怪小说家，约生于唐德宗贞元十九年（公元803年），卒于懿宗咸通四年（公元863年），其父段文昌，曾任宰相，封邹平郡公，工诗，有文名。在诗坛上，他与李商隐、温庭筠齐名。段成式信佛读经，饮酒赋诗唱和，以解其忧，诗中多流露出超脱世俗的消极情绪。', metadata={'row': 813, 'source': '由大模型处理过的文档/诗人简介一列.csv'}),\n Document(page_content='摘要: 【标题】：宋代诗人杜常生平及事迹简介\\r\\n【关键词】：杜常，宋代诗人，治平二年进士，河北路转运使，工部尚书，龙图阁学士\\n内容: 诗人: 李邕\\r\\n朝代: 唐代\\r\\n简介: 李邕(678～747)，即李北海，也称李括州，唐代书法家。字泰和，汉族，鄂州江夏（今湖北省武汉市武昌区）人。其父李善，为《文选》（梁萧统编选）作注。李邕少年即成名，后召为左拾遗，曾任户部员外郎、括州刺史、北海太守等职，人称“李北海”。', metadata={'row': 1164, 'source': '由大模型处理过的文档/诗人简介二列.csv'}),\n Document(page_content='摘要: 【标题】：唐代诗人姚伦的生平和创作\\r\\n【关键词】：姚伦，唐代诗人，扬州大都督府，剑南观察推官，太子詹事，学识丰富，诗文创作，高仲武评价\\n内容: 诗人: 姚伦\\r\\n朝代: 唐代\\r\\n简介: 姚伦历任扬州大都督府参、曹参军、剑南观察推官等职，是唐朝人。唐朝大中年间（847—860）， 姚伦迁任太子詹事一职，直至去世。姚伦学识较丰，尤好诗文，高仲武曾评其诗曰:“姚子诗虽未弘深，去凡已远，属辞比事，不失文流。如‘乱声千叶下，寒影一巢孤’篇什之秀也。”', metadata={'row': 1252, 'source': '由大模型处理过的文档/诗人简介二列.csv'})]"
     },
     "execution_count": 18,
     "metadata": {},
     "output_type": "execute_result"
    }
   ],
   "source": [
    "r"
   ],
   "metadata": {
    "collapsed": false,
    "ExecuteTime": {
     "end_time": "2023-12-19T16:58:35.041684Z",
     "start_time": "2023-12-19T16:58:35.041180200Z"
    }
   },
   "id": "dcdf65e249b4fd69"
  },
  {
   "cell_type": "code",
   "execution_count": 35,
   "outputs": [],
   "source": [
    "embeddings = ef.embed_documents([\n",
    "    p.page_content for p in poets1\n",
    "])\n",
    "query = ef.embed_query(\"请告诉我杜甫的诗歌思想。\")\n",
    "\n"
   ],
   "metadata": {
    "collapsed": false,
    "ExecuteTime": {
     "end_time": "2023-12-19T06:31:47.576485400Z",
     "start_time": "2023-12-19T06:31:39.473385Z"
    }
   },
   "id": "b9ff0856b4133b75"
  }
 ],
 "metadata": {
  "kernelspec": {
   "display_name": "Python 3",
   "language": "python",
   "name": "python3"
  },
  "language_info": {
   "codemirror_mode": {
    "name": "ipython",
    "version": 2
   },
   "file_extension": ".py",
   "mimetype": "text/x-python",
   "name": "python",
   "nbconvert_exporter": "python",
   "pygments_lexer": "ipython2",
   "version": "2.7.6"
  }
 },
 "nbformat": 4,
 "nbformat_minor": 5
}
