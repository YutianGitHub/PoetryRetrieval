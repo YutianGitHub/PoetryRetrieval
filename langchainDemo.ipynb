{
 "cells": [
  {
   "cell_type": "code",
   "execution_count": 99,
   "id": "initial_id",
   "metadata": {
    "collapsed": true,
    "ExecuteTime": {
     "end_time": "2023-12-19T11:06:06.577681500Z",
     "start_time": "2023-12-19T11:06:06.556739200Z"
    }
   },
   "outputs": [],
   "source": [
    "import importlib\n",
    "from langchain.document_loaders.csv_loader import CSVLoader\n",
    "from langchain.embeddings import HuggingFaceEmbeddings\n",
    "\n",
    "import pandas as pd\n",
    "import tqdm\n",
    "import util\n",
    "import uuid\n",
    "from langchain.vectorstores import Chroma\n",
    "from langchain.text_splitter import RecursiveCharacterTextSplitter"
   ]
  },
  {
   "cell_type": "code",
   "execution_count": 98,
   "outputs": [],
   "source": [
    "poets1 = CSVLoader(\"由大模型处理过的文档/诗人简介二列.csv\",encoding=\"utf-8\").load()"
   ],
   "metadata": {
    "collapsed": false,
    "ExecuteTime": {
     "end_time": "2023-12-19T11:02:20.934644400Z",
     "start_time": "2023-12-19T11:02:20.861836600Z"
    }
   },
   "id": "bb1d802b254928d4"
  },
  {
   "cell_type": "markdown",
   "source": [],
   "metadata": {
    "collapsed": false
   },
   "id": "5c8431cce3f5338c"
  },
  {
   "cell_type": "code",
   "execution_count": 81,
   "outputs": [],
   "source": [
    "text_splitter = RecursiveCharacterTextSplitter(\n",
    "    # Set a really small chunk size, just to show.\n",
    "    chunk_size = 512,\n",
    "    chunk_overlap  = 64,\n",
    "    length_function = len,\n",
    "    is_separator_regex = False,\n",
    ")"
   ],
   "metadata": {
    "collapsed": false,
    "ExecuteTime": {
     "end_time": "2023-12-19T07:33:02.060918700Z",
     "start_time": "2023-12-19T07:33:02.042918500Z"
    }
   },
   "id": "63c254fa36702981"
  },
  {
   "cell_type": "code",
   "execution_count": 100,
   "outputs": [],
   "source": [
    "ef = HuggingFaceEmbeddings(\n",
    "  model_name = \"thenlper/gte-base-zh\",\n",
    "  cache_folder = \"./model\",\n",
    "  model_kwargs={\"device\":\"cuda\"}\n",
    ")"
   ],
   "metadata": {
    "collapsed": false,
    "ExecuteTime": {
     "end_time": "2023-12-19T11:06:20.337692600Z",
     "start_time": "2023-12-19T11:06:19.587048700Z"
    }
   },
   "id": "69c91b1d7a2397d7"
  },
  {
   "cell_type": "code",
   "execution_count": 35,
   "outputs": [],
   "source": [
    "embeddings = ef.embed_documents(\n",
    "  \n",
    ")"
   ],
   "metadata": {
    "collapsed": false,
    "ExecuteTime": {
     "end_time": "2023-12-19T06:31:47.576485400Z",
     "start_time": "2023-12-19T06:31:39.473385Z"
    }
   },
   "id": "b9ff0856b4133b75"
  }
 ],
 "metadata": {
  "kernelspec": {
   "display_name": "Python 3",
   "language": "python",
   "name": "python3"
  },
  "language_info": {
   "codemirror_mode": {
    "name": "ipython",
    "version": 2
   },
   "file_extension": ".py",
   "mimetype": "text/x-python",
   "name": "python",
   "nbconvert_exporter": "python",
   "pygments_lexer": "ipython2",
   "version": "2.7.6"
  }
 },
 "nbformat": 4,
 "nbformat_minor": 5
}
