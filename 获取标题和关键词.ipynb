{
 "cells": [
  {
   "cell_type": "code",
   "execution_count": 4,
   "id": "initial_id",
   "metadata": {
    "collapsed": true,
    "ExecuteTime": {
     "end_time": "2023-12-20T05:30:11.541994800Z",
     "start_time": "2023-12-20T05:30:11.525005200Z"
    }
   },
   "outputs": [],
   "source": [
    "import importlib\n",
    "import time\n",
    "import re\n",
    "from langchain.document_loaders.csv_loader import CSVLoader\n",
    "from langchain.embeddings import HuggingFaceEmbeddings\n",
    "\n",
    "import pandas as pd\n",
    "import tqdm\n",
    "import util\n",
    "import uuid\n",
    "\n",
    "from langchain.text_splitter import RecursiveCharacterTextSplitter\n",
    "\n",
    "import concurrent.futures"
   ]
  },
  {
   "cell_type": "code",
   "execution_count": 2,
   "outputs": [],
   "source": [
    "prompt = \"\"\"\n",
    "你是一位资深的文字专家，请为以下内容提供用于检索的标题和关键词：\n",
    "\n",
    "字数要求： 共50字左右 \n",
    "\n",
    "标题要求： 突出原文的主题和要点，使用简洁明了的语言表达。能概括文档的各个内容，方便用于检索。 关键词突出原文的要点。如果原文没有明显的信息，你的回复是：无。\n",
    "输出样例：\n",
    "【标题】：你生成的标题。\n",
    "【关键词】：你生成的关键词。\n",
    "\n",
    "以下是原文：\n",
    "{content}\n",
    "\"\"\""
   ],
   "metadata": {
    "collapsed": false,
    "ExecuteTime": {
     "end_time": "2023-12-20T05:29:56.439279700Z",
     "start_time": "2023-12-20T05:29:56.424320200Z"
    }
   },
   "id": "9526a1b8d0306875"
  },
  {
   "cell_type": "code",
   "execution_count": 3,
   "outputs": [],
   "source": [
    "poets1 = CSVLoader(file_path=\"4个数据集/poets_3154_copy.csv\", encoding=\"utf-8\").load()\n",
    "poets2 = CSVLoader(file_path=\"4个数据集/poets_contents_3154.csv\", encoding=\"utf-8\").load()"
   ],
   "metadata": {
    "collapsed": false,
    "ExecuteTime": {
     "end_time": "2023-12-20T05:29:59.018459100Z",
     "start_time": "2023-12-20T05:29:58.800347900Z"
    }
   },
   "id": "52f5afb721dc8e97"
  },
  {
   "cell_type": "code",
   "execution_count": 5,
   "outputs": [],
   "source": [
    "poets1_1 = []\n",
    "poets2_1 = []"
   ],
   "metadata": {
    "collapsed": false,
    "ExecuteTime": {
     "end_time": "2023-12-20T05:30:38.015744100Z",
     "start_time": "2023-12-20T05:30:38.003754300Z"
    }
   },
   "id": "1ec55d238c0af01f"
  },
  {
   "cell_type": "code",
   "execution_count": 29,
   "outputs": [],
   "source": [
    "pattern = re.compile(r'诗人: ([\\u4e00-\\u9fa5]+)\\n')\n",
    "\n",
    "spliter = RecursiveCharacterTextSplitter(\n",
    "    chunk_size = 512,\n",
    "    chunk_overlap  = 64,\n",
    "    length_function = len,\n",
    "    is_separator_regex = True,\n",
    "    separators=[\"\\n\\n\",\"\\n\",\" \",\"\"]\n",
    ")\n"
   ],
   "metadata": {
    "collapsed": false,
    "ExecuteTime": {
     "end_time": "2023-12-20T05:57:31.786152300Z",
     "start_time": "2023-12-20T05:57:31.756237200Z"
    }
   },
   "id": "bbdf04f6ba2834a6"
  },
  {
   "cell_type": "code",
   "execution_count": null,
   "outputs": [],
   "source": [
    "for p in tqdm.tqdm(poets2,total=len(poets2)):\n",
    "\n",
    "    match = pattern.search(p.page_content)\n",
    "    if match:\n",
    "        name = match.group(1)\n",
    "    else:\n",
    "        print(f\"\\nnot find name:{p.page_content[0:20]}\")\n",
    "        continue\n",
    "\n",
    "    head = f\"诗人：{name}的生平片段\"\n",
    "    if len(p.page_content)<=500:\n",
    "        poets2_1.append(head+p.page_content)\n",
    "    else:\n",
    "        texts = spliter.split_text(p.page_content)\n",
    "        for i,text in enumerate(texts):\n",
    "            poets2_1.append(head+f\"{i+1}：\\n\"+text)"
   ],
   "metadata": {
    "collapsed": false
   },
   "id": "b7f7890454049323"
  },
  {
   "cell_type": "code",
   "execution_count": 38,
   "outputs": [
    {
     "data": {
      "text/plain": "'诗人：方干的生平片段2：\\n方干擅长律诗，清润小巧，且多警句。其诗有的反映社会动乱，同情人民疾苦；有的抒发怀才不遇，求名未遂的感怀。文德元年，方干客死会稽，归葬桐江。门人相与论德，谥曰“玄英先生”，并搜集他的遗诗370余篇，编成《方干诗集》传世。《全唐诗》编有方干诗6卷348篇。宋景佑年间，范仲淹守睦州，绘方干像于严陵祠配享。'"
     },
     "execution_count": 38,
     "metadata": {},
     "output_type": "execute_result"
    }
   ],
   "source": [
    "poets2_1[1]"
   ],
   "metadata": {
    "collapsed": false,
    "ExecuteTime": {
     "end_time": "2023-12-20T05:59:00.218842200Z",
     "start_time": "2023-12-20T05:59:00.196861500Z"
    }
   },
   "id": "229bf4014cfdc464"
  },
  {
   "cell_type": "code",
   "execution_count": null,
   "outputs": [],
   "source": [
    "iterObj = poets1\n",
    "concur = 3\n",
    "res = dict()\n",
    "count = 0\n",
    "chunks = util.chunks(iterObj, batch_size=concur)\n",
    "for batch in tqdm.tqdm(chunks, total=len(iterObj) // concur):\n",
    "    with concurrent.futures.ThreadPoolExecutor() as executor:\n",
    "        # 调用你的函数，并传入不同的参数\n",
    "        # 这里的参数可以是不同的消息、历史记录等\n",
    "        # 返回的futures列表包含每个调用的结果\n",
    "        futures = [executor.submit(util.syncChatChatGLM,\n",
    "                                   prompt.format(content=batch[tag].page_content),\n",
    "                                   [], 0.95, 0.7, count+tag) for tag in range(concur)]\n",
    "        for i in range(concur):\n",
    "\t        res[count+i] = {\"文档\":batch[i].page_content}\n",
    "        count += concur\n",
    "        print()\n",
    "        for i, future in enumerate(concurrent.futures.as_completed(futures)):\n",
    "            try:\n",
    "                # 获取函数的返回值\n",
    "\n",
    "                # 关键问题：返回顺序不一定一致！\n",
    "                \n",
    "                result = future.result()\n",
    "                res[result[0]][\"摘要\"] = result[1]\n",
    "                print(f\"Tag:{result[0]},Result: {result}\")\n",
    "            except Exception as e:\n",
    "                print(f\"Error: {e}\")\n",
    "        time.sleep(1.2)"
   ],
   "metadata": {
    "collapsed": false
   },
   "id": "a8d368b3733a2919"
  },
  {
   "cell_type": "code",
   "execution_count": 25,
   "outputs": [
    {
     "name": "stdout",
     "output_type": "stream",
     "text": [
      "{'文档': '诗人: 张旭\\n朝代: 唐代\\n简介: 张旭（675年—约750年），字伯高，一字季明，汉族，唐朝吴县（今江苏苏州）人。曾官常熟县尉，金吾长史。善草书，性好酒，世称张颠，也是“饮中八仙”之一。其草书当时与李白诗歌、裴旻剑舞并称“三绝”，诗亦别具一格，以七绝见长。与李白、贺知章等人共列饮中八仙之一。唐文宗曾下诏，以李白诗歌、裴旻剑舞、张旭草书为“三绝”。又工诗，与贺知章、张若虚、包融号称“吴中四士”。传世书迹有《肚痛帖》、《古诗四帖》等。', '摘要': ' 【标题】：唐代诗人张旭：草书大家与“饮中八仙”\\n【关键词】：张旭，唐代，诗人，草书，饮中八仙，李白，肚痛帖，古诗四帖'}\n"
     ]
    }
   ],
   "source": [
    "print(res[2])"
   ],
   "metadata": {
    "collapsed": false,
    "ExecuteTime": {
     "end_time": "2023-12-20T05:51:10.748973600Z",
     "start_time": "2023-12-20T05:51:10.726999400Z"
    }
   },
   "id": "d65f45307d3e443f"
  }
 ],
 "metadata": {
  "kernelspec": {
   "display_name": "Python 3",
   "language": "python",
   "name": "python3"
  },
  "language_info": {
   "codemirror_mode": {
    "name": "ipython",
    "version": 2
   },
   "file_extension": ".py",
   "mimetype": "text/x-python",
   "name": "python",
   "nbconvert_exporter": "python",
   "pygments_lexer": "ipython2",
   "version": "2.7.6"
  }
 },
 "nbformat": 4,
 "nbformat_minor": 5
}
