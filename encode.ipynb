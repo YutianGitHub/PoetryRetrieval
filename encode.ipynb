{
 "cells": [
  {
   "cell_type": "code",
   "execution_count": 13,
   "id": "initial_id",
   "metadata": {
    "collapsed": true,
    "ExecuteTime": {
     "end_time": "2023-11-24T09:04:39.155781100Z",
     "start_time": "2023-11-24T09:04:39.151823800Z"
    }
   },
   "outputs": [],
   "source": [
    "import chromadb\n",
    "from chromadb.utils import embedding_functions\n",
    "import sentence_transformers\n",
    "import util\n",
    "import numpy as np"
   ]
  },
  {
   "cell_type": "code",
   "execution_count": 3,
   "outputs": [],
   "source": [
    "Model = sentence_transformers.SentenceTransformer(\"E:\\models\\BAAI_bge-base-zh-v1.5\").cuda().half()"
   ],
   "metadata": {
    "collapsed": false,
    "ExecuteTime": {
     "end_time": "2023-11-24T08:49:44.207258500Z",
     "start_time": "2023-11-24T08:49:33.943050700Z"
    }
   },
   "id": "284dd79f0ca64535"
  },
  {
   "cell_type": "code",
   "execution_count": 7,
   "outputs": [],
   "source": [
    "encode_ef = Model.encode\n"
   ],
   "metadata": {
    "collapsed": false,
    "ExecuteTime": {
     "end_time": "2023-11-24T08:57:53.694419Z",
     "start_time": "2023-11-24T08:57:53.675450100Z"
    }
   },
   "id": "31062b5e00c3cc9a"
  },
  {
   "cell_type": "code",
   "execution_count": 30,
   "outputs": [],
   "source": [
    "embeddings = encode_ef([\n",
    "    \"你好啊，世界！\",\n",
    "    \"世界，你好啊！\",\n",
    "    \"水调歌头·明月几时有\",\n",
    "    \"苏轼的词《水调歌头》全文\",\n",
    "    \"\"\"\n",
    "    丙辰中秋，欢饮达旦，大醉，作此篇，兼怀子由。 \\n\\n明月几时有？把酒问青天。不知天上宫阙，今夕是何年。我欲乘风归去，又恐琼楼玉宇，高处不胜寒。起舞弄清影，何似在人间？\\n转朱阁，低绮户，照无眠。不应有恨，何事长向别时圆？人有悲欢离合，月有阴晴圆缺，此事古难全。但愿人长久，千里共婵娟。\\n\\n\n",
    "\n",
    "    \"\"\",\n",
    "    \"但愿人长久，千里共婵娟\"\n",
    "                         \n",
    "])"
   ],
   "metadata": {
    "collapsed": false,
    "ExecuteTime": {
     "end_time": "2023-11-24T09:18:46.542618Z",
     "start_time": "2023-11-24T09:18:46.165969600Z"
    }
   },
   "id": "72a8b86fd87fb70b"
  },
  {
   "cell_type": "code",
   "execution_count": 31,
   "outputs": [
    {
     "data": {
      "text/plain": "0.6357"
     },
     "execution_count": 31,
     "metadata": {},
     "output_type": "execute_result"
    }
   ],
   "source": [
    "util.cosine_similarity(embeddings[5],embeddings[4])"
   ],
   "metadata": {
    "collapsed": false,
    "ExecuteTime": {
     "end_time": "2023-11-24T09:18:47.598233Z",
     "start_time": "2023-11-24T09:18:47.589223700Z"
    }
   },
   "id": "b4041fcb2f0b87bf"
  },
  {
   "cell_type": "code",
   "execution_count": 32,
   "outputs": [
    {
     "data": {
      "text/plain": "0.4219"
     },
     "execution_count": 32,
     "metadata": {},
     "output_type": "execute_result"
    }
   ],
   "source": [
    "util.dot_product(embeddings[1],embeddings[5])"
   ],
   "metadata": {
    "collapsed": false,
    "ExecuteTime": {
     "end_time": "2023-11-24T09:18:53.282903900Z",
     "start_time": "2023-11-24T09:18:53.276932Z"
    }
   },
   "id": "87de74bc04b02733"
  },
  {
   "cell_type": "code",
   "execution_count": 16,
   "outputs": [
    {
     "data": {
      "text/plain": "1.0"
     },
     "execution_count": 16,
     "metadata": {},
     "output_type": "execute_result"
    }
   ],
   "source": [
    "np.linalg.norm(embeddings[1])"
   ],
   "metadata": {
    "collapsed": false,
    "ExecuteTime": {
     "end_time": "2023-11-24T09:05:08.018322500Z",
     "start_time": "2023-11-24T09:05:07.991206200Z"
    }
   },
   "id": "c7d09b7a8d8ac2c"
  },
  {
   "cell_type": "code",
   "execution_count": 33,
   "outputs": [],
   "source": [
    "poets_df = util.read_csv(\"poets_3154.csv\")"
   ],
   "metadata": {
    "collapsed": false,
    "ExecuteTime": {
     "end_time": "2023-11-24T09:24:01.083838300Z",
     "start_time": "2023-11-24T09:24:01.039909Z"
    }
   },
   "id": "8f1148bd56a96bee"
  },
  {
   "cell_type": "code",
   "execution_count": null,
   "outputs": [],
   "source": [],
   "metadata": {
    "collapsed": false
   },
   "id": "3633be8b8d70ecb"
  },
  {
   "cell_type": "code",
   "execution_count": null,
   "outputs": [],
   "source": [],
   "metadata": {
    "collapsed": false
   },
   "id": "6f6a545ffcb0f080"
  }
 ],
 "metadata": {
  "kernelspec": {
   "display_name": "Python 3",
   "language": "python",
   "name": "python3"
  },
  "language_info": {
   "codemirror_mode": {
    "name": "ipython",
    "version": 2
   },
   "file_extension": ".py",
   "mimetype": "text/x-python",
   "name": "python",
   "nbconvert_exporter": "python",
   "pygments_lexer": "ipython2",
   "version": "2.7.6"
  }
 },
 "nbformat": 4,
 "nbformat_minor": 5
}
