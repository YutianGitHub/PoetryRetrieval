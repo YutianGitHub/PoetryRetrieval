{
 "cells": [
  {
   "cell_type": "code",
   "execution_count": 45,
   "id": "initial_id",
   "metadata": {
    "collapsed": true,
    "ExecuteTime": {
     "end_time": "2023-11-28T09:55:34.714618800Z",
     "start_time": "2023-11-28T09:55:34.698618600Z"
    }
   },
   "outputs": [],
   "source": [
    "import typing\n",
    "\n",
    "import chromadb\n",
    "from chromadb import Documents, EmbeddingFunction, Embeddings\n",
    "from chromadb.utils import embedding_functions\n",
    "import sentence_transformers\n",
    "import util\n",
    "import numpy as np"
   ]
  },
  {
   "cell_type": "code",
   "execution_count": 3,
   "outputs": [],
   "source": [
    "Model = sentence_transformers.SentenceTransformer(\"E:\\models\\BAAI_bge-base-zh-v1.5\").cuda().half()"
   ],
   "metadata": {
    "collapsed": false,
    "ExecuteTime": {
     "end_time": "2023-11-24T08:49:44.207258500Z",
     "start_time": "2023-11-24T08:49:33.943050700Z"
    }
   },
   "id": "284dd79f0ca64535"
  },
  {
   "cell_type": "code",
   "execution_count": 84,
   "outputs": [],
   "source": [
    "encode_ef = Model.encode\n",
    "chroma_client = chromadb.PersistentClient()"
   ],
   "metadata": {
    "collapsed": false,
    "ExecuteTime": {
     "end_time": "2023-11-28T10:33:03.009801200Z",
     "start_time": "2023-11-28T10:33:02.801736200Z"
    }
   },
   "id": "31062b5e00c3cc9a"
  },
  {
   "cell_type": "code",
   "execution_count": 55,
   "outputs": [],
   "source": [
    "\n",
    "class MyEmbeddingFunction(EmbeddingFunction):\n",
    "    def __call__(self, input: Documents) -> Embeddings:\n",
    "        # embed the documents somehow\n",
    "        return encode_ef(input).tolist()"
   ],
   "metadata": {
    "collapsed": false,
    "ExecuteTime": {
     "end_time": "2023-11-28T10:00:48.862550400Z",
     "start_time": "2023-11-28T10:00:48.840642200Z"
    }
   },
   "id": "a17c4d5524d4b1a7"
  },
  {
   "cell_type": "code",
   "execution_count": null,
   "outputs": [],
   "source": [],
   "metadata": {
    "collapsed": false
   },
   "id": "e858e73c2af28938"
  },
  {
   "cell_type": "code",
   "execution_count": 93,
   "outputs": [],
   "source": [
    "embeddings = encode_ef([\n",
    "    \"你好啊，世界！\",\n",
    "    \"世界，你好啊！\",\n",
    "    \"水调歌头·明月几时有\",\n",
    "    \"苏轼的词《水调歌头》全文\",\n",
    "    \"\"\"\n",
    "    丙辰中秋，欢饮达旦，大醉，作此篇，兼怀子由。 \\n\\n明月几时有？把酒问青天。不知天上宫阙，今夕是何年。我欲乘风归去，又恐琼楼玉宇，高处不胜寒。起舞弄清影，何似在人间？\\n转朱阁，低绮户，照无眠。不应有恨，何事长向别时圆？人有悲欢离合，月有阴晴圆缺，此事古难全。但愿人长久，千里共婵娟。\\n\\n\n",
    "\n",
    "    \"\"\",\n",
    "    \"但愿人长久，千里共婵娟\"\n",
    "                         \n",
    "])"
   ],
   "metadata": {
    "collapsed": false,
    "ExecuteTime": {
     "end_time": "2023-11-28T10:36:58.583743700Z",
     "start_time": "2023-11-28T10:36:58.184225500Z"
    }
   },
   "id": "72a8b86fd87fb70b"
  },
  {
   "cell_type": "code",
   "execution_count": 99,
   "outputs": [],
   "source": [
    "collection = chroma_client.get_or_create_collection(name=\"test2\",\n",
    "                                                    embedding_function=MyEmbeddingFunction(),\n",
    "                                                    metadata={\"hnsw:space\": \"ip\"})"
   ],
   "metadata": {
    "collapsed": false,
    "ExecuteTime": {
     "end_time": "2023-11-28T10:46:59.439898800Z",
     "start_time": "2023-11-28T10:46:59.428849500Z"
    }
   },
   "id": "3633be8b8d70ecb"
  },
  {
   "cell_type": "code",
   "execution_count": 96,
   "outputs": [
    {
     "data": {
      "text/plain": "0.4219"
     },
     "execution_count": 96,
     "metadata": {},
     "output_type": "execute_result"
    }
   ],
   "source": [
    "import util\n",
    "util.dot_product(embeddings[5],embeddings[1])"
   ],
   "metadata": {
    "collapsed": false,
    "ExecuteTime": {
     "end_time": "2023-11-28T10:38:32.673494100Z",
     "start_time": "2023-11-28T10:38:32.645559Z"
    }
   },
   "id": "6585a7bd90a6de0e"
  },
  {
   "cell_type": "code",
   "execution_count": 100,
   "outputs": [
    {
     "name": "stderr",
     "output_type": "stream",
     "text": [
      "Add of existing embedding ID: 1\n",
      "Add of existing embedding ID: 2\n",
      "Add of existing embedding ID: 3\n",
      "Add of existing embedding ID: 4\n",
      "Add of existing embedding ID: 5\n",
      "Add of existing embedding ID: 6\n",
      "Insert of existing embedding ID: 1\n",
      "Insert of existing embedding ID: 2\n",
      "Insert of existing embedding ID: 3\n",
      "Insert of existing embedding ID: 4\n",
      "Insert of existing embedding ID: 5\n",
      "Insert of existing embedding ID: 6\n"
     ]
    }
   ],
   "source": [
    "collection.add(\n",
    "    ids=[\"1\",\"2\",\"3\",\"4\",\"5\",\"6\"],\n",
    "    embeddings=embeddings.tolist(),\n",
    "    metadatas=[{\"key\":\"你好啊，世界！\"},\n",
    "               {\"key\":\"世界，你好啊！\"},\n",
    "               {\"key\":\"水调歌头·明月几时有\"},\n",
    "               {\"key\":\"苏轼《水调歌头》全文\"},\n",
    "               {\"key\":\"\"\"\n",
    "    丙辰中秋，欢饮达旦，大醉，作此篇，兼怀子由。 \\n\\n明月几时有？把酒问青天。不知天上宫阙，今夕是何年。我欲乘风归去，又恐琼楼玉宇，高处不胜寒。起舞弄清影，何似在人间？\\n转朱阁，低绮户，照无眠。不应有恨，何事长向别时圆？人有悲欢离合，月有阴晴圆缺，此事古难全。但愿人长久，千里共婵娟。\\n\\n\n",
    "\n",
    "    \"\"\",},\n",
    "               {\"key\":\"但愿人长久，千里共婵娟\"}],\n",
    ")"
   ],
   "metadata": {
    "collapsed": false,
    "ExecuteTime": {
     "end_time": "2023-11-28T10:47:01.955248200Z",
     "start_time": "2023-11-28T10:47:01.922337100Z"
    }
   },
   "id": "6f6a545ffcb0f080"
  },
  {
   "cell_type": "code",
   "execution_count": 101,
   "outputs": [
    {
     "data": {
      "text/plain": "{'ids': [['6', '5', '2', '4']],\n 'distances': [[-2.3865336444828245e-06,\n   0.36458637230225577,\n   0.5779726172809205,\n   0.5792259860263584]],\n 'metadatas': [[{'key': '但愿人长久，千里共婵娟'},\n   {'key': '\\n    丙辰中秋，欢饮达旦，大醉，作此篇，兼怀子由。 \\n\\n明月几时有？把酒问青天。不知天上宫阙，今夕是何年。我欲乘风归去，又恐琼楼玉宇，高处不胜寒。起舞弄清影，何似在人间？\\n转朱阁，低绮户，照无眠。不应有恨，何事长向别时圆？人有悲欢离合，月有阴晴圆缺，此事古难全。但愿人长久，千里共婵娟。\\n\\n\\n\\n    '},\n   {'key': '世界，你好啊！'},\n   {'key': '苏轼《水调歌头》全文'}]],\n 'embeddings': None,\n 'documents': [[None, None, None, None]],\n 'uris': None,\n 'data': None}"
     },
     "execution_count": 101,
     "metadata": {},
     "output_type": "execute_result"
    }
   ],
   "source": [
    "results = collection.query(query_texts=\"但愿人长久，千里共婵娟\",n_results=4)\n",
    "results"
   ],
   "metadata": {
    "collapsed": false,
    "ExecuteTime": {
     "end_time": "2023-11-28T10:47:16.877210600Z",
     "start_time": "2023-11-28T10:47:16.778439500Z"
    }
   },
   "id": "6d6e773944cac7b2"
  },
  {
   "cell_type": "code",
   "execution_count": null,
   "outputs": [],
   "source": [],
   "metadata": {
    "collapsed": false
   },
   "id": "c6d92bc07938a075"
  }
 ],
 "metadata": {
  "kernelspec": {
   "display_name": "Python 3",
   "language": "python",
   "name": "python3"
  },
  "language_info": {
   "codemirror_mode": {
    "name": "ipython",
    "version": 2
   },
   "file_extension": ".py",
   "mimetype": "text/x-python",
   "name": "python",
   "nbconvert_exporter": "python",
   "pygments_lexer": "ipython2",
   "version": "2.7.6"
  }
 },
 "nbformat": 4,
 "nbformat_minor": 5
}
