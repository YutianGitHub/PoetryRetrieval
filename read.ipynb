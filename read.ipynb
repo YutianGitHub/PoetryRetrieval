{
 "cells": [
  {
   "cell_type": "code",
   "execution_count": 2,
   "id": "initial_id",
   "metadata": {
    "collapsed": true,
    "ExecuteTime": {
     "end_time": "2023-11-21T10:03:25.998405Z",
     "start_time": "2023-11-21T10:03:25.940546300Z"
    }
   },
   "outputs": [],
   "source": [
    "import json\n",
    "import numpy\n",
    "import matplotlib\n",
    "import os\n",
    "import importlib\n",
    "import pandas as pd\n",
    "import tqdm"
   ]
  },
  {
   "cell_type": "markdown",
   "source": [
    "诗人poet\n",
    "id\n",
    "star:点赞量，热度\n",
    "name\n",
    "dynasty\n",
    "desc\n",
    "content"
   ],
   "metadata": {
    "collapsed": false
   },
   "id": "6301b101d89d3187"
  },
  {
   "cell_type": "code",
   "execution_count": 3,
   "outputs": [],
   "source": [
    "all_dir = r\"C:\\Users\\admin\\Documents\\GitHub\\poetry\\data\\aio\""
   ],
   "metadata": {
    "collapsed": false,
    "ExecuteTime": {
     "end_time": "2023-11-21T10:03:26.095132600Z",
     "start_time": "2023-11-21T10:03:25.973458700Z"
    }
   },
   "id": "592377135e3a358a"
  },
  {
   "cell_type": "code",
   "execution_count": 4,
   "outputs": [],
   "source": [
    "import util\n",
    "poets_file = util.get_all_files_in_directory(all_dir,rules= lambda x: x == \"LCPoet.json\")"
   ],
   "metadata": {
    "collapsed": false,
    "ExecuteTime": {
     "end_time": "2023-11-21T10:03:26.115080100Z",
     "start_time": "2023-11-21T10:03:25.992408200Z"
    }
   },
   "id": "757bc9ba6e2db30d"
  },
  {
   "cell_type": "code",
   "execution_count": 5,
   "outputs": [
    {
     "name": "stderr",
     "output_type": "stream",
     "text": [
      "100%|██████████| 1/1 [00:00<00:00, 15.67it/s]\n"
     ]
    }
   ],
   "source": [
    "poets = util.json_list_parse(poets_file)"
   ],
   "metadata": {
    "collapsed": false,
    "ExecuteTime": {
     "end_time": "2023-11-21T10:03:26.117076900Z",
     "start_time": "2023-11-21T10:03:26.006370Z"
    }
   },
   "id": "3f6bac8dbb1e7dc5"
  },
  {
   "cell_type": "code",
   "execution_count": 57,
   "outputs": [],
   "source": [
    "poets_df = pd.DataFrame(poets[0]).fillna(\"暂无\")"
   ],
   "metadata": {
    "collapsed": false,
    "ExecuteTime": {
     "end_time": "2023-11-23T09:29:19.320385300Z",
     "start_time": "2023-11-23T09:29:19.291464200Z"
    }
   },
   "id": "c2023eb6320bc0b3"
  },
  {
   "cell_type": "code",
   "execution_count": 59,
   "outputs": [],
   "source": [
    "poets_df.drop(columns=[\"objectId\"],inplace=True)"
   ],
   "metadata": {
    "collapsed": false,
    "ExecuteTime": {
     "end_time": "2023-11-23T09:31:33.946726800Z",
     "start_time": "2023-11-23T09:31:33.918718Z"
    }
   },
   "id": "f1a1a12dfcde822a"
  },
  {
   "cell_type": "code",
   "execution_count": 7,
   "outputs": [
    {
     "data": {
      "text/plain": "            poetId         star\ncount  3154.000000  3154.000000\nmean   1579.070387    33.053583\nstd     911.178922   193.268793\nmin       1.000000     0.000000\n25%     790.250000     0.000000\n50%    1579.500000     0.000000\n75%    2367.750000     3.000000\nmax    3156.000000  4895.000000",
      "text/html": "<div>\n<style scoped>\n    .dataframe tbody tr th:only-of-type {\n        vertical-align: middle;\n    }\n\n    .dataframe tbody tr th {\n        vertical-align: top;\n    }\n\n    .dataframe thead th {\n        text-align: right;\n    }\n</style>\n<table border=\"1\" class=\"dataframe\">\n  <thead>\n    <tr style=\"text-align: right;\">\n      <th></th>\n      <th>poetId</th>\n      <th>star</th>\n    </tr>\n  </thead>\n  <tbody>\n    <tr>\n      <th>count</th>\n      <td>3154.000000</td>\n      <td>3154.000000</td>\n    </tr>\n    <tr>\n      <th>mean</th>\n      <td>1579.070387</td>\n      <td>33.053583</td>\n    </tr>\n    <tr>\n      <th>std</th>\n      <td>911.178922</td>\n      <td>193.268793</td>\n    </tr>\n    <tr>\n      <th>min</th>\n      <td>1.000000</td>\n      <td>0.000000</td>\n    </tr>\n    <tr>\n      <th>25%</th>\n      <td>790.250000</td>\n      <td>0.000000</td>\n    </tr>\n    <tr>\n      <th>50%</th>\n      <td>1579.500000</td>\n      <td>0.000000</td>\n    </tr>\n    <tr>\n      <th>75%</th>\n      <td>2367.750000</td>\n      <td>3.000000</td>\n    </tr>\n    <tr>\n      <th>max</th>\n      <td>3156.000000</td>\n      <td>4895.000000</td>\n    </tr>\n  </tbody>\n</table>\n</div>"
     },
     "execution_count": 7,
     "metadata": {},
     "output_type": "execute_result"
    }
   ],
   "source": [
    "poets_df.describe()"
   ],
   "metadata": {
    "collapsed": false,
    "ExecuteTime": {
     "end_time": "2023-11-21T10:03:28.304945800Z",
     "start_time": "2023-11-21T10:03:28.273776500Z"
    }
   },
   "id": "df39ec9694c64c75"
  },
  {
   "cell_type": "markdown",
   "source": [
    "古诗：poetry\n",
    "poetryid\n",
    "star\n",
    "name\n",
    "dynasty\n",
    "content\n",
    "fanyi\n",
    "shangxi\n",
    "about\n",
    "author\n",
    "poet"
   ],
   "metadata": {
    "collapsed": false
   },
   "id": "b9514cd66686096b"
  },
  {
   "cell_type": "code",
   "execution_count": 31,
   "outputs": [
    {
     "data": {
      "text/plain": "<module 'util' from 'C:\\\\git_projects\\\\Poetry项目\\\\util.py'>"
     },
     "execution_count": 31,
     "metadata": {},
     "output_type": "execute_result"
    }
   ],
   "source": [
    "importlib.reload(util)"
   ],
   "metadata": {
    "collapsed": false,
    "ExecuteTime": {
     "end_time": "2023-11-21T10:31:18.063001400Z",
     "start_time": "2023-11-21T10:31:18.035896600Z"
    }
   },
   "id": "aef0ffec14e7ca60"
  },
  {
   "cell_type": "code",
   "execution_count": 91,
   "outputs": [],
   "source": [
    "util.to_csv(poets_df,\"poets_3154.csv\")"
   ],
   "metadata": {
    "collapsed": false,
    "ExecuteTime": {
     "end_time": "2023-11-23T10:39:02.427846600Z",
     "start_time": "2023-11-23T10:39:02.228799Z"
    }
   },
   "id": "1bc0852f77950793"
  },
  {
   "cell_type": "code",
   "execution_count": 33,
   "outputs": [],
   "source": [
    "poetrys_dir = r\"C:\\Users\\admin\\Documents\\GitHub\\poetry\\data\\poetry\""
   ],
   "metadata": {
    "collapsed": false,
    "ExecuteTime": {
     "end_time": "2023-11-21T10:31:44.687988Z",
     "start_time": "2023-11-21T10:31:44.664865800Z"
    }
   },
   "id": "a8f7e487884ceca2"
  },
  {
   "cell_type": "code",
   "execution_count": 34,
   "outputs": [],
   "source": [
    "poetrys_file = util.get_all_files_in_directory(poetrys_dir)"
   ],
   "metadata": {
    "collapsed": false,
    "ExecuteTime": {
     "end_time": "2023-11-21T10:31:55.829533Z",
     "start_time": "2023-11-21T10:31:55.458524400Z"
    }
   },
   "id": "76d8ae815d6f23b9"
  },
  {
   "cell_type": "code",
   "execution_count": 52,
   "outputs": [
    {
     "name": "stdout",
     "output_type": "stream",
     "text": [
      "多线程解析\n"
     ]
    },
    {
     "name": "stderr",
     "output_type": "stream",
     "text": [
      "100%|██████████| 72417/72417 [00:08<00:00, 8243.08it/s]\n"
     ]
    }
   ],
   "source": [
    "poetrys = util.json_list_parse(poetrys_file,multi_process=True,num_workers=8)"
   ],
   "metadata": {
    "collapsed": false,
    "ExecuteTime": {
     "end_time": "2023-11-23T09:16:58.246963100Z",
     "start_time": "2023-11-23T09:16:47.732438100Z"
    }
   },
   "id": "578d81dcfc77e66b"
  },
  {
   "cell_type": "code",
   "execution_count": 24,
   "outputs": [],
   "source": [
    "poetrys = util.merge_list(poetrys)"
   ],
   "metadata": {
    "collapsed": false,
    "ExecuteTime": {
     "end_time": "2023-11-21T10:14:07.728405300Z",
     "start_time": "2023-11-21T10:14:07.707460500Z"
    }
   },
   "id": "c195c06258b7084e"
  },
  {
   "cell_type": "code",
   "execution_count": 53,
   "outputs": [],
   "source": [
    "poetrys_df = pd.DataFrame(poetrys).fillna(\"暂无\")"
   ],
   "metadata": {
    "collapsed": false,
    "ExecuteTime": {
     "end_time": "2023-11-23T09:17:12.899987100Z",
     "start_time": "2023-11-23T09:17:12.686450400Z"
    }
   },
   "id": "a1ac112fda71c41c"
  },
  {
   "cell_type": "code",
   "execution_count": 94,
   "outputs": [],
   "source": [
    "util.to_csv(poetrys_df,\"poetrys_72417_tag.csv\")"
   ],
   "metadata": {
    "collapsed": false,
    "ExecuteTime": {
     "end_time": "2023-11-23T10:50:49.351035700Z",
     "start_time": "2023-11-23T10:50:47.454525800Z"
    }
   },
   "id": "5bbd9bc3436b1a8a"
  },
  {
   "cell_type": "code",
   "execution_count": 54,
   "outputs": [
    {
     "name": "stdout",
     "output_type": "stream",
     "text": [
      "<class 'pandas.core.frame.DataFrame'>\n",
      "RangeIndex: 72417 entries, 0 to 72416\n",
      "Data columns (total 10 columns):\n",
      " #   Column   Non-Null Count  Dtype \n",
      "---  ------   --------------  ----- \n",
      " 0   about    72417 non-null  object\n",
      " 1   content  72417 non-null  object\n",
      " 2   dynasty  72417 non-null  object\n",
      " 3   fanyi    72417 non-null  object\n",
      " 4   id       72417 non-null  int64 \n",
      " 5   name     72417 non-null  object\n",
      " 6   poet     72417 non-null  object\n",
      " 7   shangxi  72417 non-null  object\n",
      " 8   star     72417 non-null  int64 \n",
      " 9   tags     72417 non-null  object\n",
      "dtypes: int64(2), object(8)\n",
      "memory usage: 5.5+ MB\n"
     ]
    }
   ],
   "source": [
    "poetrys_df.info()"
   ],
   "metadata": {
    "collapsed": false,
    "ExecuteTime": {
     "end_time": "2023-11-23T09:20:10.875955700Z",
     "start_time": "2023-11-23T09:20:10.809141Z"
    }
   },
   "id": "8a9d1dbc987f8b9b"
  },
  {
   "cell_type": "code",
   "execution_count": 37,
   "outputs": [
    {
     "data": {
      "text/plain": "240711552"
     },
     "execution_count": 37,
     "metadata": {},
     "output_type": "execute_result"
    }
   ],
   "source": [
    "from pympler import asizeof\n",
    "asizeof.asizeof(poetrys_df)"
   ],
   "metadata": {
    "collapsed": false,
    "ExecuteTime": {
     "end_time": "2023-11-20T10:06:39.849631400Z",
     "start_time": "2023-11-20T10:06:39.674078300Z"
    }
   },
   "id": "5d1c136556602557"
  },
  {
   "cell_type": "code",
   "execution_count": 38,
   "outputs": [
    {
     "data": {
      "text/plain": "     poetId                  objectId  star name  \\\n559     561  5a7aa71f7a1ff97e530fb68d   872  欧阳修   \n\n                                                 image dynasty  \\\n559  https://raw.githubusercontent.com/hujiaweibuji...      宋代   \n\n                                                  desc  \\\n559  欧阳修（1007－1072），字永叔，号醉翁，晚号“六一居士”。汉族，吉州永丰（今江西省永丰...   \n\n                                               content  \n559  人物生平\\n\\n早年经历\\n　　北宋景德四年六月二十一日寅时，欧阳修出生于绵州，当时他父亲任...  ",
      "text/html": "<div>\n<style scoped>\n    .dataframe tbody tr th:only-of-type {\n        vertical-align: middle;\n    }\n\n    .dataframe tbody tr th {\n        vertical-align: top;\n    }\n\n    .dataframe thead th {\n        text-align: right;\n    }\n</style>\n<table border=\"1\" class=\"dataframe\">\n  <thead>\n    <tr style=\"text-align: right;\">\n      <th></th>\n      <th>poetId</th>\n      <th>objectId</th>\n      <th>star</th>\n      <th>name</th>\n      <th>image</th>\n      <th>dynasty</th>\n      <th>desc</th>\n      <th>content</th>\n    </tr>\n  </thead>\n  <tbody>\n    <tr>\n      <th>559</th>\n      <td>561</td>\n      <td>5a7aa71f7a1ff97e530fb68d</td>\n      <td>872</td>\n      <td>欧阳修</td>\n      <td>https://raw.githubusercontent.com/hujiaweibuji...</td>\n      <td>宋代</td>\n      <td>欧阳修（1007－1072），字永叔，号醉翁，晚号“六一居士”。汉族，吉州永丰（今江西省永丰...</td>\n      <td>人物生平\\n\\n早年经历\\n　　北宋景德四年六月二十一日寅时，欧阳修出生于绵州，当时他父亲任...</td>\n    </tr>\n  </tbody>\n</table>\n</div>"
     },
     "execution_count": 38,
     "metadata": {},
     "output_type": "execute_result"
    }
   ],
   "source": [
    "poets_df.query(\"poetId == 561\")"
   ],
   "metadata": {
    "collapsed": false,
    "ExecuteTime": {
     "end_time": "2023-11-20T10:17:12.816171100Z",
     "start_time": "2023-11-20T10:17:12.786251500Z"
    }
   },
   "id": "f55a9266c4d68fda"
  },
  {
   "cell_type": "markdown",
   "source": [
    "mingju\n",
    "id\n",
    "juid\n",
    "\n",
    "\n",
    "\n",
    "content\n",
    "poetid\n",
    "poetname\n",
    "poetryid\n",
    "poetryname"
   ],
   "metadata": {
    "collapsed": false
   },
   "id": "8e28f7ada296c8f0"
  },
  {
   "cell_type": "code",
   "execution_count": 51,
   "outputs": [
    {
     "name": "stdout",
     "output_type": "stream",
     "text": [
      "多线程解析\n"
     ]
    },
    {
     "name": "stderr",
     "output_type": "stream",
     "text": [
      "100%|██████████| 1/1 [00:00<?, ?it/s]\n"
     ]
    }
   ],
   "source": [
    "mingju_path = r\"C:\\Users\\admin\\Documents\\GitHub\\poetry\\aio\\mingju.json\"\n",
    "\n",
    "mingjus = util.json_list_parse([mingju_path],multi_process=True)"
   ],
   "metadata": {
    "collapsed": false,
    "ExecuteTime": {
     "end_time": "2023-11-23T09:08:17.257164800Z",
     "start_time": "2023-11-23T09:08:17.215633200Z"
    }
   },
   "id": "fe616dc831ee3c1b"
  },
  {
   "cell_type": "code",
   "execution_count": 55,
   "outputs": [],
   "source": [
    "mingjus_df = pd.DataFrame(mingjus[0]).fillna(\"暂无\")"
   ],
   "metadata": {
    "collapsed": false,
    "ExecuteTime": {
     "end_time": "2023-11-23T09:20:30.066720900Z",
     "start_time": "2023-11-23T09:20:30.047771200Z"
    }
   },
   "id": "46262f48c8827b65"
  },
  {
   "cell_type": "code",
   "execution_count": 41,
   "outputs": [],
   "source": [
    "util.to_csv(mingjus_df,\"mingjus_5764.csv\")"
   ],
   "metadata": {
    "collapsed": false,
    "ExecuteTime": {
     "end_time": "2023-11-21T06:06:01.034843200Z",
     "start_time": "2023-11-21T06:06:00.982001200Z"
    }
   },
   "id": "405981c12523158"
  },
  {
   "cell_type": "code",
   "execution_count": 60,
   "outputs": [],
   "source": [
    "poetrys_df.set_index(\"id\",inplace=True)"
   ],
   "metadata": {
    "collapsed": false,
    "ExecuteTime": {
     "end_time": "2023-11-23T09:32:13.415262800Z",
     "start_time": "2023-11-23T09:32:13.401300100Z"
    }
   },
   "id": "b9077aeea49f1b16"
  },
  {
   "cell_type": "code",
   "execution_count": 61,
   "outputs": [],
   "source": [
    "poets_df.set_index(\"poetId\",inplace=True)"
   ],
   "metadata": {
    "collapsed": false,
    "ExecuteTime": {
     "end_time": "2023-11-23T09:32:36.691586900Z",
     "start_time": "2023-11-23T09:32:36.675629500Z"
    }
   },
   "id": "bd11a9848c48a97f"
  },
  {
   "cell_type": "code",
   "execution_count": 62,
   "outputs": [],
   "source": [
    "mingjus_df.drop(columns=[\"juId\"],inplace=True)"
   ],
   "metadata": {
    "collapsed": false,
    "ExecuteTime": {
     "end_time": "2023-11-23T09:36:34.455730900Z",
     "start_time": "2023-11-23T09:36:34.440757300Z"
    }
   },
   "id": "1ac5fe21dff1dbb0"
  },
  {
   "cell_type": "code",
   "execution_count": 63,
   "outputs": [],
   "source": [
    "mingjus_df.set_index(\"id\",inplace=True)"
   ],
   "metadata": {
    "collapsed": false,
    "ExecuteTime": {
     "end_time": "2023-11-23T09:37:08.516058700Z",
     "start_time": "2023-11-23T09:37:08.501099100Z"
    }
   },
   "id": "e745424e9d71f1d9"
  },
  {
   "cell_type": "code",
   "execution_count": 56,
   "outputs": [
    {
     "name": "stdout",
     "output_type": "stream",
     "text": [
      "<class 'pandas.core.frame.DataFrame'>\n",
      "Index: 72417 entries, 1 to 73281\n",
      "Data columns (total 10 columns):\n",
      " #   Column   Non-Null Count  Dtype \n",
      "---  ------   --------------  ----- \n",
      " 0   star     72417 non-null  int64 \n",
      " 1   name     72417 non-null  object\n",
      " 2   dynasty  72417 non-null  object\n",
      " 3   content  72417 non-null  object\n",
      " 4   fanyi    72417 non-null  object\n",
      " 5   shangxi  72417 non-null  object\n",
      " 6   about    72417 non-null  object\n",
      " 7   tags     72417 non-null  object\n",
      " 8   author   72417 non-null  object\n",
      " 9   poet     72417 non-null  object\n",
      "dtypes: int64(1), object(9)\n",
      "memory usage: 8.1+ MB\n"
     ]
    }
   ],
   "source": [
    "poetrys_df.info()"
   ],
   "metadata": {
    "collapsed": false,
    "ExecuteTime": {
     "end_time": "2023-11-21T06:42:32.007077800Z",
     "start_time": "2023-11-21T06:42:31.991087700Z"
    }
   },
   "id": "b8fdd29593f4b0d3"
  },
  {
   "cell_type": "code",
   "execution_count": 50,
   "outputs": [
    {
     "data": {
      "text/plain": "<module 'util' from 'C:\\\\git_projects\\\\Poetry项目\\\\util.py'>"
     },
     "execution_count": 50,
     "metadata": {},
     "output_type": "execute_result"
    }
   ],
   "source": [
    "importlib.reload(util)"
   ],
   "metadata": {
    "collapsed": false,
    "ExecuteTime": {
     "end_time": "2023-11-23T09:08:01.009027Z",
     "start_time": "2023-11-23T09:08:00.977114900Z"
    }
   },
   "id": "2856a7d48d8ec903"
  },
  {
   "cell_type": "code",
   "execution_count": 45,
   "outputs": [],
   "source": [
    "a = poetrys_df.loc[21744]"
   ],
   "metadata": {
    "collapsed": false,
    "ExecuteTime": {
     "end_time": "2023-11-23T08:56:25.283149900Z",
     "start_time": "2023-11-23T08:56:25.258215800Z"
    }
   },
   "id": "baf14534cb551f3c"
  },
  {
   "cell_type": "code",
   "execution_count": 46,
   "outputs": [
    {
     "data": {
      "text/plain": "about      写作背景\\n\\n　　唐宪宗元和元年（806），白居易任盩厔（今西安市周至县）县尉。一日，与友...\ncontent    汉皇重色思倾国，御宇多年求不得。杨家有女初长成，养在深闺人未识。\\n天生丽质难自弃，一朝选在...\ndynasty                                                   唐代\nfanyi      译文\\n唐明皇偏好美色，当上皇帝后多年来一直在寻找美女，却都是一无所获。\\n杨家有个女儿刚刚...\nname                                                     长恨歌\npoet       {'desc': '白居易（772年－846年），字乐天，号香山居士，又号醉吟先生，祖籍太原...\nshangxi    鉴赏\\n\\n　　《长恨歌》是白居易诗作中脍炙人口的名篇，作于元和元年（806），当时诗人正在...\nstar                                                   14769\ntags                             [唐诗三百首, 写人, 爱情, 讽喻, 叙事, 长诗]\nName: 21744, dtype: object"
     },
     "execution_count": 46,
     "metadata": {},
     "output_type": "execute_result"
    }
   ],
   "source": [
    "a"
   ],
   "metadata": {
    "collapsed": false,
    "ExecuteTime": {
     "end_time": "2023-11-23T08:56:26.755102600Z",
     "start_time": "2023-11-23T08:56:26.730169700Z"
    }
   },
   "id": "fcbb78da137242a4"
  },
  {
   "cell_type": "code",
   "execution_count": 47,
   "outputs": [
    {
     "data": {
      "text/plain": "13392"
     },
     "execution_count": 47,
     "metadata": {},
     "output_type": "execute_result"
    }
   ],
   "source": [
    "util.len_row(poetrys_df.loc[21744])"
   ],
   "metadata": {
    "collapsed": false,
    "ExecuteTime": {
     "end_time": "2023-11-23T08:56:35.544537300Z",
     "start_time": "2023-11-23T08:56:35.514197700Z"
    }
   },
   "id": "176df34b62107b41"
  },
  {
   "cell_type": "code",
   "execution_count": 48,
   "outputs": [
    {
     "data": {
      "text/plain": "{'desc': '白居易（772年－846年），字乐天，号香山居士，又号醉吟先生，祖籍太原，到其曾祖父时迁居下邽，生于河南新郑。是唐代伟大的现实主义诗人，唐代三大诗人之一。白居易与元稹共同倡导新乐府运动，世称“元白”，与刘禹锡并称“刘白”。白居易的诗歌题材广泛，形式多样，语言平易通俗，有“诗魔”和“诗王”之称。官至翰林学士、左赞善大夫。公元846年，白居易在洛阳逝世，葬于香山。有《白氏长庆集》传世，代表诗作有《长恨歌》、《卖炭翁》、《琵琶行》等。',\n 'id': 665,\n 'image': 'https://raw.githubusercontent.com/hujiaweibujidao/poetry/master/image/image_665.jpg',\n 'name': '白居易',\n 'star': 0}"
     },
     "execution_count": 48,
     "metadata": {},
     "output_type": "execute_result"
    }
   ],
   "source": [
    "poetrys_df.loc[21744][\"poet\"]"
   ],
   "metadata": {
    "collapsed": false,
    "ExecuteTime": {
     "end_time": "2023-11-23T08:57:25.719323800Z",
     "start_time": "2023-11-23T08:57:25.689361600Z"
    }
   },
   "id": "d0e7ab9a138a3fff"
  },
  {
   "cell_type": "markdown",
   "source": [
    "对名句进行诗人和诗词附着"
   ],
   "metadata": {
    "collapsed": false
   },
   "id": "2907560fa2976f79"
  },
  {
   "cell_type": "code",
   "execution_count": 56,
   "outputs": [],
   "source": [
    "mingjus_df[\"poetry\"] = pd.NA\n",
    "mingjus_df[\"poet\"] = pd.NA"
   ],
   "metadata": {
    "collapsed": false,
    "ExecuteTime": {
     "end_time": "2023-11-23T09:27:36.441252Z",
     "start_time": "2023-11-23T09:27:36.433261500Z"
    }
   },
   "id": "dd56e9a4ad78e2b8"
  },
  {
   "cell_type": "code",
   "execution_count": 67,
   "outputs": [
    {
     "data": {
      "text/plain": "{'star': 1941,\n 'name': '刘禹锡',\n 'image': 'https://raw.githubusercontent.com/hujiaweibujidao/poetry/master/image/image_197.jpg',\n 'dynasty': '唐代',\n 'desc': '刘禹锡（772－842），字梦得，汉族，中国唐朝彭城（今徐州）人，祖籍洛阳，唐朝文学家，哲学家，自称是汉中山靖王后裔，曾任监察御史，是王叔文政治改革集团的一员。唐代中晚期著名诗人，有“诗豪”之称。他的家庭是一个世代以儒学相传的书香门第。政治上主张革新，是王叔文派政治革新活动的中心人物之一。后来永贞革新失败被贬为朗州司马（今湖南常德）。据湖南常德历史学家、收藏家周新国先生考证刘禹锡被贬为朗州司马其间写了著名的“汉寿城春望”。',\n 'content': '纪念馆\\n\\n\\u3000\\u3000刘禹锡纪念馆坐落在连州中学燕喜山的刘禹锡纪念馆，飞檐斗拱，采用朱红色的支柱，无不透露出中国古典式宫廷建筑风格，显得古色古香。古朴雄伟的纪念馆经精心布展后显得魅力四射：灯光、壁画、诗词、铜像等场景的搭配，烘托出一种丰富多彩的历史厚重感。'}"
     },
     "execution_count": 67,
     "metadata": {},
     "output_type": "execute_result"
    }
   ],
   "source": [
    "dict(poets_df.loc[197])"
   ],
   "metadata": {
    "collapsed": false,
    "ExecuteTime": {
     "end_time": "2023-11-23T09:40:05.469842300Z",
     "start_time": "2023-11-23T09:40:05.422969900Z"
    }
   },
   "id": "c2b873024abc79af"
  },
  {
   "cell_type": "code",
   "execution_count": 70,
   "outputs": [
    {
     "name": "stdout",
     "output_type": "stream",
     "text": [
      "<class 'pandas.core.frame.DataFrame'>\n",
      "Index: 5764 entries, 1 to 5764\n",
      "Data columns (total 7 columns):\n",
      " #   Column      Non-Null Count  Dtype \n",
      "---  ------      --------------  ----- \n",
      " 0   content     5764 non-null   object\n",
      " 1   poetId      5764 non-null   int64 \n",
      " 2   poetName    5764 non-null   object\n",
      " 3   poetryId    5764 non-null   int64 \n",
      " 4   poetryName  5764 non-null   object\n",
      " 5   poetry      0 non-null      object\n",
      " 6   poet        0 non-null      object\n",
      "dtypes: int64(2), object(5)\n",
      "memory usage: 489.3+ KB\n"
     ]
    }
   ],
   "source": [
    "mingjus_df.info()"
   ],
   "metadata": {
    "collapsed": false,
    "ExecuteTime": {
     "end_time": "2023-11-23T09:45:31.037978300Z",
     "start_time": "2023-11-23T09:45:31.007872600Z"
    }
   },
   "id": "283f5451fbb47bb4"
  },
  {
   "cell_type": "code",
   "execution_count": 73,
   "outputs": [
    {
     "name": "stderr",
     "output_type": "stream",
     "text": [
      "100%|██████████| 5764/5764 [00:01<00:00, 3398.97it/s]\n"
     ]
    }
   ],
   "source": [
    "for index,row in tqdm.tqdm(mingjus_df.iterrows(),total=len(mingjus_df)):\n",
    "    poetId,poetryId = row[\"poetId\"],row[\"poetryId\"]\n",
    "    if poetId != 0:\n",
    "        mingjus_df.at[index,\"poet\"] = dict(poets_df.loc[poetId])\n",
    "    if poetryId != 0:\n",
    "        mingjus_df.at[index,\"poetry\"] = dict(poetrys_df.loc[poetryId])\n",
    "    "
   ],
   "metadata": {
    "collapsed": false,
    "ExecuteTime": {
     "end_time": "2023-11-23T09:48:11.523747800Z",
     "start_time": "2023-11-23T09:48:09.811984Z"
    }
   },
   "id": "30de9a7e11fc71e5"
  },
  {
   "cell_type": "code",
   "execution_count": 88,
   "outputs": [
    {
     "data": {
      "text/plain": "{'about': '创作背景\\n\\n\\u3000\\u3000这首诗是764年（唐代宗广德二年）春，杜甫在成都所写。当时诗人客居四川已是第五个年头。上一年正月，官军收复河南河北，安史之乱平定；十月便发生了吐蕃攻陷长安、立傀儡、改年号，代宗奔逃陕州的事；不久郭子仪收复京师。年底，吐蕃又破松、维、保等州（在今四川北部），继而再攻陷剑南、西山诸州。诗中“西山寇盗”即指吐蕃，“万方多难”也以吐蕃入侵为最烈，同时，也指宦官专权、藩镇割据、朝廷内外交困、灾患重重的日益衰败景象。',\n 'content': '花近高楼伤客心，万方多难此登临。\\n锦江春色来天地，玉垒浮云变古今。\\n北极朝廷终不改，西山寇盗莫相侵。\\n可怜后主还祠庙，日暮聊为《梁甫吟》。',\n 'dynasty': '唐代',\n 'fanyi': '直译\\n繁花靠近高楼，远离家乡的我触目伤心，在这全国各地多灾多难的时刻，我登楼观览。\\n锦江两岸蓬蓬勃勃的春色铺天盖地涌来，玉垒山上的浮云，古往今来，千形万象，变幻不定。\\n朝廷如同北极星一样最终都不会改换，西山的寇盗吐蕃不要来侵扰。\\n可叹蜀后主刘禅那样的昏君，仍然在祠庙中享受祭祀，黄昏的时候我也姑且吟诵那《梁甫吟》。\\n\\n韵译\\n登楼望春近看繁花游子越发伤心；万方多难愁思满腹我来此外登临。\\n锦江的春色从天地边际迎面扑来；从古到今玉垒山的浮云变幻莫测。\\n大唐的朝廷真像北极星不可动摇；吐蕃夷狄莫再前来骚扰徒劳入侵。\\n可叹刘后主那么昏庸还立庙祠祀；日暮时分我要学孔明聊作梁父吟。\\n\\n注释\\n（1）客心：客居者之心。\\n（2）锦江：即濯锦江，流经成都的岷江支流。成都出锦，锦在江中漂洗，色泽更加鲜明，因此命名濯锦江。\\n来天地：与天地俱来。\\u3000\\n（3）玉垒浮云变古今：是说多变的政局和多难的人生，捉摸不定，有如山上浮云，古往今来一向如此。\\n玉垒：山名，在四川灌县西、成都西北。\\n变古今：与古今俱变。\\n（4）北极朝廷终不改，西山寇盗莫相侵：这位两句是说唐代政权是稳固的，不容篡改，吐蕃还是不要枉费心机，前来侵略。唐代宗广德年间九月，吐蕃军队东侵，泾州刺史高晖投降吐蕃，引导吐蕃人攻占唐都长安，唐代宗东逃陕州。十月下旬，郭子仪收复长安。十二月，唐代宗返回京城。同年十二月，吐蕃人又向四川进攻，占领了松州、维州等地。\\n北极：星名，北极星，古人常用以指代朝廷。\\n终不改：终究不能改，终于没有改。\\n西山：指今四川省西部当时和吐蕃交界地区的雪山。\\n寇盗：指入侵的吐蕃集团。\\n（5）后主：刘备的儿子刘禅，三国时蜀国之后主。曹魏灭蜀，他辞庙北上，成亡国之君。\\n还祠庙：意思是，诗人感叹连刘禅这样的人竟然还有祠庙。这事借眼前古迹慨叹刘禅荣幸佞臣而亡国，暗讽唐代宗信用宦官招致祸患。成都锦官门外有蜀先主（刘备）庙，西边为武侯（诸葛亮）祀，东边为后主祀。\\n还：仍然。\\n（6）聊为：不甘心这样做而姑且这样做。\\n梁父吟：古乐府中一首葬歌。《三国志》说诸葛亮躬耕陇亩，好为梁父吟。借以抒发空怀济世之心，聊以吟诗以自遣。“父”通“甫”读三声fǔ 传说诸葛亮曾经写过一首《梁父吟》的歌词\\u3000\\n\\n',\n 'name': '登楼',\n 'poet': {'desc': '杜甫（712－770），字子美，自号少陵野老，世称“杜工部”、“杜少陵”等，汉族，河南府巩县（今河南省巩义市）人，唐代伟大的现实主义诗人，杜甫被世人尊为“诗圣”，其诗被称为“诗史”。杜甫与李白合称“李杜”，为了跟另外两位诗人李商隐与杜牧即“小李杜”区别开来，杜甫与李白又合称“大李杜”。他忧国忧民，人格高尚，他的约1400余首诗被保留了下来，诗艺精湛，在中国古典诗歌中备受推崇，影响深远。759-766年间曾居成都，后世有杜甫草堂纪念。',\n  'id': 474,\n  'image': 'https://raw.githubusercontent.com/hujiaweibujidao/poetry/master/image/image_474.jpg',\n  'name': '杜甫',\n  'star': 0},\n 'shangxi': '赏析\\n\\n\\u3000\\u3000首联提挈全篇，“万方多难”，是全诗写景抒情的出发点。在这样一个万方多难的时候，流离他乡的诗人愁思满腹，登上此楼，虽然繁花触目，诗人却为国家的灾难重重而忧愁，伤感，更加黯然心伤。花伤客心，以乐景写哀情，和“感时花溅泪”（《春望》）一样，同是反衬手法。在行文上，先写诗人见花伤心的反常现象，再说是由于万方多难的缘故，因果倒装，起势突兀；“登临”二字，则以高屋建瓴之势，领起下面的种种观感。\\n\\n\\u3000\\u3000颔联从诗人登楼所见的自然山水描述山河壮观，“锦江”、“玉垒”是登楼所见。诗人凭楼远望，锦江流水挟着蓬勃的春色从天地的边际汹涌而来，玉垒山上的浮云飘忽起灭，正像古今世势的风云变幻，诗人联想到国家动荡不安的局势。上句向空间开拓视野，下句就时间驰骋遐思，天高地迥，古往今来，形成一个阔大悠远、囊括宇宙的境界，饱含着诗人对祖国山河的赞美和对民族历史的追怀；而且，登高临远，视通八方，独向西北前线游目骋怀，也透露诗人忧国忧民的无限心事。\\n\\n\\u3000\\u3000颈联议论天下大势，“朝廷”、“寇盗”，是诗人登楼所想。北极，星名，居北天正中，这里象征大唐政权。上句“终不改”，反承第四句的“变古今”，是从前一年吐蕃攻陷京城、代宗不久复辟一事而来，意思是说大唐帝国气运久远；下句“寇盗”“相侵”，进一步说明第二句的“万方多难”，针对吐蕃的觊觎寄语相告：“莫再徒劳无益地前来侵扰！”词严义正，浩气凛然，在如焚的焦虑之中透着坚定的信念。\\n\\n\\u3000\\u3000尾联咏怀古迹，讽喻当朝昏君，寄托诗人的个人怀抱。后主，指蜀汉刘禅，宠信宦官，终于亡国；先主庙在成都锦官门外，西有武侯祠，东有后主祠；《梁甫吟》是诸葛亮遇刘备前喜欢诵读的乐府诗篇，用来比喻这首《登楼》，含有对诸葛武侯的仰慕之意。诗人伫立楼头，徘徊沉吟，很快日已西落，在苍茫的暮色中，城南先主庙、后主祠依稀可见。想到后主刘禅，诗人不禁喟然而叹：“可怜那亡国昏君，竟也配和诸葛武侯一样，专居祠庙，歆享后人香火！”这是以刘禅比喻唐代宗李豫。李豫重用宦官程元振、鱼朝恩，造成国事维艰、吐蕃入侵的局面，同刘禅信任黄皓而亡国极其相似。所不同的是，诗人生活的时代只有刘后主那样的昏君，却没有诸葛亮那样的贤相。而诗人自己，空怀济世之心，苦无献身之路，万里他乡，高楼落日，忧虑满怀，却只能靠吟诗来聊以自遣。\\n\\n\\u3000\\u3000全诗即景抒怀，写山川联系着古往今来社会的变化，谈人事又借助自然界的景物，互相渗透，互相包容；融自然景象、国家灾难、个人情思为一体，语壮境阔，寄意深远，体现了诗人沉郁顿挫的艺术风格。\\n\\n\\u3000\\u3000这首七律，格律严谨。中间两联，对仗工稳，颈联为流水对，有一种飞动流走的快感。在语言上，特别工于各句（末句例外）第五字的锤炼。首句的“伤”，为全诗点染一种悲怆气氛，而且突如其来，造成强烈的悬念。次句的“此”，兼有“此时”、“此地”、“此人”、“此行”等多重含义，也包含着“只能如此而已”的感慨。三句的“来”，烘托锦江春色逐人、气势浩大，令人有荡胸扑面的感受。四句的“变”，浮云如白云变苍狗，世事如沧海变桑田，一字双关，引发读者作联翩无穷的想象。五句的“终”，是“终于”，是“始终”，也是“终久”；有庆幸，有祝愿，也有信心，从而使六句的“莫”字充满令寇盗闻而却步的威力。七句的“还”，是“不当如此而居然如此”的语气，表示对古今误国昏君的极大轻蔑。只有末句，炼字的重点放在第三字上，“聊”是“不甘如此却只能如此”的意思，抒写诗人无可奈何的伤感，与第二句的“此”字遥相呼应。\\n\\n\\u3000\\u3000尤其值得读者注意的是，首句的“近”字和末句的“暮”字在诗的构思方面起着突出的作用。全诗写登楼观感，俯仰瞻眺，山川古迹，都是从空间着眼；“日暮”，点明诗人徜徉时间已久。这样就兼顾了空间和时间，增强了意境的立体感。单就空间而论，无论西北的锦江、玉垒，或者城南的后主祠庙，都是远处的景物；开端的“花近高楼”却近在咫尺之间。远景近景互相配合，便使诗的境界阔大雄浑而无豁落空洞的遗憾。\\n\\n\\u3000\\u3000历代诗家对于此诗评价极高。清人浦起龙评论说：“声宏势阔，自然杰作。”（《读杜心解》卷四）沈德潜更为推崇说：“气象雄伟，笼盖宇宙，此杜诗之最上者。”（《唐诗别裁》卷十三）\\n\\n',\n 'star': 1002,\n 'tags': ['唐诗三百首', '初中古诗', '高中古诗', '写景', '怀古', '感时', '忧国忧民']}"
     },
     "execution_count": 88,
     "metadata": {},
     "output_type": "execute_result"
    }
   ],
   "source": [
    "mingjus_df.loc[3154][\"poetry\"]"
   ],
   "metadata": {
    "collapsed": false,
    "ExecuteTime": {
     "end_time": "2023-11-23T10:01:48.410643200Z",
     "start_time": "2023-11-23T10:01:48.401667400Z"
    }
   },
   "id": "5177a5940e1bd4b2"
  },
  {
   "cell_type": "code",
   "execution_count": 89,
   "outputs": [],
   "source": [
    "mingjus_df.drop(columns=[\"poet\"],inplace=True)\n",
    "util.to_csv(mingjus_df,\"mingjus_5764_poet_poetry.csv\")"
   ],
   "metadata": {
    "collapsed": false,
    "ExecuteTime": {
     "end_time": "2023-11-23T10:02:28.469819900Z",
     "start_time": "2023-11-23T10:02:27.622085300Z"
    }
   },
   "id": "4fd8686691227f45"
  },
  {
   "cell_type": "code",
   "execution_count": 92,
   "outputs": [],
   "source": [
    "poets_contents = poets_df.copy(deep=True).drop(columns=[\"desc\"])"
   ],
   "metadata": {
    "collapsed": false,
    "ExecuteTime": {
     "end_time": "2023-11-23T10:49:08.520600800Z",
     "start_time": "2023-11-23T10:49:08.497662700Z"
    }
   },
   "id": "d56a93986be57ce5"
  },
  {
   "cell_type": "code",
   "execution_count": 93,
   "outputs": [],
   "source": [
    "util.to_csv(poets_contents,file_name=\"poets_contents_3154.csv\")"
   ],
   "metadata": {
    "collapsed": false,
    "ExecuteTime": {
     "end_time": "2023-11-23T10:49:50.535478900Z",
     "start_time": "2023-11-23T10:49:50.358952700Z"
    }
   },
   "id": "bdc0255f9044a88f"
  },
  {
   "cell_type": "code",
   "execution_count": 95,
   "outputs": [],
   "source": [
    "util.to_csv(poets_df.drop(columns=[\"content\"]),\"poets_3154.csv\")"
   ],
   "metadata": {
    "collapsed": false,
    "ExecuteTime": {
     "end_time": "2023-11-23T10:53:33.904570800Z",
     "start_time": "2023-11-23T10:53:33.861685400Z"
    }
   },
   "id": "9553bc6d80f2e9ac"
  }
 ],
 "metadata": {
  "kernelspec": {
   "display_name": "Python 3",
   "language": "python",
   "name": "python3"
  },
  "language_info": {
   "codemirror_mode": {
    "name": "ipython",
    "version": 2
   },
   "file_extension": ".py",
   "mimetype": "text/x-python",
   "name": "python",
   "nbconvert_exporter": "python",
   "pygments_lexer": "ipython2",
   "version": "2.7.6"
  }
 },
 "nbformat": 4,
 "nbformat_minor": 5
}
