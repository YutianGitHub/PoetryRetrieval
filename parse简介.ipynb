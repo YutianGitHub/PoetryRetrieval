{
 "cells": [
  {
   "cell_type": "code",
   "execution_count": 27,
   "id": "initial_id",
   "metadata": {
    "collapsed": true,
    "ExecuteTime": {
     "end_time": "2023-12-24T13:20:14.696515100Z",
     "start_time": "2023-12-24T13:20:14.680597Z"
    }
   },
   "outputs": [],
   "source": [
    "import pandas as pd\n",
    "import re\n",
    "import tqdm"
   ]
  },
  {
   "cell_type": "code",
   "execution_count": 41,
   "outputs": [],
   "source": [
    "df = pd.read_csv(\"诗人简介二列.csv\")"
   ],
   "metadata": {
    "collapsed": false,
    "ExecuteTime": {
     "end_time": "2023-12-24T13:30:24.841427200Z",
     "start_time": "2023-12-24T13:30:24.777823100Z"
    }
   },
   "id": "1b84f4c8835a6434"
  },
  {
   "cell_type": "code",
   "execution_count": 20,
   "outputs": [],
   "source": [
    "pattern = re.compile(r\"诗人: ([\\u4e00-\\u9fa5]+)\\n\")"
   ],
   "metadata": {
    "collapsed": false,
    "ExecuteTime": {
     "end_time": "2023-12-24T13:12:05.907050200Z",
     "start_time": "2023-12-24T13:12:05.902242400Z"
    }
   },
   "id": "86341365744d72ec"
  },
  {
   "cell_type": "code",
   "execution_count": 33,
   "outputs": [],
   "source": [
    "match = pattern.search(\"\"\"诗人: 吴潜\n",
    "朝代: 宋代\n",
    "简介: 吴潜（1195—1262） 字毅夫，号履斋，宣州宁国\"\"\").group(1)"
   ],
   "metadata": {
    "collapsed": false,
    "ExecuteTime": {
     "end_time": "2023-12-24T13:24:15.958886500Z",
     "start_time": "2023-12-24T13:24:15.953268200Z"
    }
   },
   "id": "59caf863a82a3d5e"
  },
  {
   "cell_type": "code",
   "execution_count": 38,
   "outputs": [],
   "source": [
    "pattern1 = re.compile(r\"诗人: ([\\u4e00-\\u9fa5]+)\\r\\n\")\n",
    "pattern2 = re.compile(r\"朝代: ([\\u4e00-\\u9fa5]+)\\r\\n\")\n",
    "def parseRow(row:pd.Series)->tuple:\n",
    "    \n",
    "    \n",
    "    name = pattern1.search(row[\"文档\"])\n",
    "    dynasty = pattern2.search(row[\"文档\"])\n",
    "    if name is not None:\n",
    "        name = name.group(1)\n",
    "    else:\n",
    "        name = \"佚名\"\n",
    "    if dynasty is not None:\n",
    "        dynasty = dynasty.group(1)\n",
    "    else:\n",
    "        dynasty = \"不详\"\n",
    "    return name,dynasty\n",
    "        "
   ],
   "metadata": {
    "collapsed": false,
    "ExecuteTime": {
     "end_time": "2023-12-24T13:27:37.082336500Z",
     "start_time": "2023-12-24T13:27:37.077741900Z"
    }
   },
   "id": "efbc53ebff7354fa"
  },
  {
   "cell_type": "code",
   "execution_count": 39,
   "outputs": [
    {
     "name": "stderr",
     "output_type": "stream",
     "text": [
      "100%|██████████| 3153/3153 [00:00<00:00, 17349.39it/s]\n"
     ]
    }
   ],
   "source": [
    "names = []\n",
    "dynasties =[]\n",
    "for i,row in tqdm.tqdm(df.iterrows(),total=len(df)):\n",
    "    n,d = parseRow(row)\n",
    "    dynasties.append(d)\n",
    "    names.append(n)"
   ],
   "metadata": {
    "collapsed": false,
    "ExecuteTime": {
     "end_time": "2023-12-24T13:27:39.414778900Z",
     "start_time": "2023-12-24T13:27:39.225956500Z"
    }
   },
   "id": "49e2c9732e8c03ca"
  },
  {
   "cell_type": "code",
   "execution_count": 43,
   "outputs": [],
   "source": [
    "N = pd.Series(names,name=\"诗人\")\n",
    "D = pd.Series(dynasties,name=\"朝代\") "
   ],
   "metadata": {
    "collapsed": false,
    "ExecuteTime": {
     "end_time": "2023-12-24T13:31:44.654662400Z",
     "start_time": "2023-12-24T13:31:44.652017Z"
    }
   },
   "id": "123323d989628ff5"
  },
  {
   "cell_type": "code",
   "execution_count": 44,
   "outputs": [],
   "source": [
    "dfnew = pd.concat([df,N,D],axis=1)"
   ],
   "metadata": {
    "collapsed": false,
    "ExecuteTime": {
     "end_time": "2023-12-24T13:32:34.924841500Z",
     "start_time": "2023-12-24T13:32:34.911928200Z"
    }
   },
   "id": "ba8f8974467c26f8"
  },
  {
   "cell_type": "code",
   "execution_count": 45,
   "outputs": [],
   "source": [
    "dfnew.to_csv(\"诗人简介二列.csv\")"
   ],
   "metadata": {
    "collapsed": false,
    "ExecuteTime": {
     "end_time": "2023-12-24T13:33:26.541324900Z",
     "start_time": "2023-12-24T13:33:26.496052300Z"
    }
   },
   "id": "c5d89a26886e5d98"
  },
  {
   "cell_type": "code",
   "execution_count": 52,
   "outputs": [],
   "source": [
    "pattern3 = re.compile(r\"：《(.+)》\")\n",
    "def parseShangxi(row:pd.Series)->str:\n",
    "    title = pattern3.search(row[\"文档\"])\n",
    "    if title is not None:\n",
    "        title = title.group(1)\n",
    "    else:\n",
    "        title = \"无题\"\n",
    "    return title"
   ],
   "metadata": {
    "collapsed": false,
    "ExecuteTime": {
     "end_time": "2023-12-24T13:47:36.034312800Z",
     "start_time": "2023-12-24T13:47:36.033808200Z"
    }
   },
   "id": "b7ef2f93116e6bf6"
  },
  {
   "cell_type": "code",
   "execution_count": 49,
   "outputs": [],
   "source": [
    "df1 = pd.read_csv(\"诗词赏析文档.csv\")"
   ],
   "metadata": {
    "collapsed": false,
    "ExecuteTime": {
     "end_time": "2023-12-24T13:44:30.184746400Z",
     "start_time": "2023-12-24T13:44:22.514234400Z"
    }
   },
   "id": "5f9c6eef5c1001a1"
  },
  {
   "cell_type": "code",
   "execution_count": 53,
   "outputs": [
    {
     "name": "stderr",
     "output_type": "stream",
     "text": [
      "100%|██████████| 286063/286063 [00:14<00:00, 19886.78it/s]\n"
     ]
    }
   ],
   "source": [
    "titles = []\n",
    "for i,row in tqdm.tqdm(df1.iterrows(),total=len(df1)):\n",
    "    t = parseShangxi(row)\n",
    "    titles.append(t)"
   ],
   "metadata": {
    "collapsed": false,
    "ExecuteTime": {
     "end_time": "2023-12-24T13:47:54.425689400Z",
     "start_time": "2023-12-24T13:47:40.028175900Z"
    }
   },
   "id": "8af3d64046fb6ad8"
  },
  {
   "cell_type": "code",
   "execution_count": 54,
   "outputs": [
    {
     "data": {
      "text/plain": "49"
     },
     "execution_count": 54,
     "metadata": {},
     "output_type": "execute_result"
    }
   ],
   "source": [
    "titles.count(\"无题\")"
   ],
   "metadata": {
    "collapsed": false,
    "ExecuteTime": {
     "end_time": "2023-12-24T13:48:13.121764800Z",
     "start_time": "2023-12-24T13:48:13.105679300Z"
    }
   },
   "id": "27a7d9537313bda2"
  },
  {
   "cell_type": "code",
   "execution_count": 59,
   "outputs": [],
   "source": [
    "pd.concat([df1.drop(columns=[\"Unnamed: 0\"]),pd.Series(titles,name=\"诗名\")],axis=1).to_csv(\"诗词赏析文档.csv\")"
   ],
   "metadata": {
    "collapsed": false,
    "ExecuteTime": {
     "end_time": "2023-12-24T13:57:58.427911100Z",
     "start_time": "2023-12-24T13:57:57.110401Z"
    }
   },
   "id": "e0ef3f4324247e37"
  }
 ],
 "metadata": {
  "kernelspec": {
   "display_name": "Python 3",
   "language": "python",
   "name": "python3"
  },
  "language_info": {
   "codemirror_mode": {
    "name": "ipython",
    "version": 2
   },
   "file_extension": ".py",
   "mimetype": "text/x-python",
   "name": "python",
   "nbconvert_exporter": "python",
   "pygments_lexer": "ipython2",
   "version": "2.7.6"
  }
 },
 "nbformat": 4,
 "nbformat_minor": 5
}
